{
  "nbformat": 4,
  "nbformat_minor": 0,
  "metadata": {
    "colab": {
      "provenance": [],
      "gpuType": "T4"
    },
    "kernelspec": {
      "name": "python3",
      "display_name": "Python 3"
    },
    "language_info": {
      "name": "python"
    },
    "accelerator": "GPU"
  },
  "cells": [
    {
      "cell_type": "markdown",
      "source": [
        "### Урок 4. CNN Свертки\n",
        "1. Обучите CNN (самописная) на CIFAR-100.\n",
        "2. Обучите CNN на CIFAR-100 через дообучение ImageNet Resnet-50.\n",
        "3. *Обучите CNN на CIFAR-100 через дообучение ImageNet Resnet-50 с аугментацией данных."
      ],
      "metadata": {
        "id": "JojkyH6QhBCf"
      }
    },
    {
      "cell_type": "code",
      "execution_count": null,
      "metadata": {
        "id": "oeaEw3VVg7UT"
      },
      "outputs": [],
      "source": [
        "import numpy as np\n",
        "import matplotlib.pyplot as plt\n",
        "from PIL import Image\n",
        "%matplotlib inline\n",
        "from torchsummary import summary\n",
        "import torch\n",
        "import torchvision\n",
        "from torchvision import datasets, models, transforms\n",
        "import torch.nn as nn\n",
        "from torch.nn import functional as F\n",
        "import torch.optim as optim\n",
        "from torch.autograd import Variable\n",
        "from torch.utils.data.sampler import SubsetRandomSampler"
      ]
    },
    {
      "cell_type": "code",
      "source": [
        "device = torch.device(\"cuda:0\" if (torch.cuda.is_available()) else \"cpu\")\n",
        "epochs_count = 15\n",
        "batch = 64\n",
        "lr_value = .001"
      ],
      "metadata": {
        "id": "OGBXVgGViiFy"
      },
      "execution_count": null,
      "outputs": []
    },
    {
      "cell_type": "code",
      "source": [
        "data_transforms = {\n",
        "    'train': transforms.Compose([\n",
        "        # transforms.Resize(36),\n",
        "        # transforms.RandomCrop(32),\n",
        "        transforms.Resize(244),\n",
        "        # transforms.RandomCrop(32),\n",
        "        transforms.RandomHorizontalFlip(p=0.5),\n",
        "        transforms.ToTensor(),\n",
        "        transforms.Normalize((0.4914, 0.4822, 0.4465), (0.2023, 0.1994, 0.2010))]),\n",
        "\n",
        "    'test': transforms.Compose([\n",
        "        transforms.Resize(244),\n",
        "        transforms.ToTensor(),\n",
        "        transforms.Normalize((0.4914, 0.4822, 0.4465), (0.2023, 0.1994, 0.2010))]),\n",
        "}\n",
        "\n",
        "data = {\n",
        "    'train': torchvision.datasets.CIFAR100('/data', train = True, transform=data_transforms['train'], download = True),\n",
        "    'test': torchvision.datasets.CIFAR100('/data', train = False, transform=data_transforms['test'], download = True)\n",
        "}"
      ],
      "metadata": {
        "colab": {
          "base_uri": "https://localhost:8080/"
        },
        "id": "O5LDiiy4kx4H",
        "outputId": "feb45a15-782d-4661-b17b-35b36f3ad590"
      },
      "execution_count": null,
      "outputs": [
        {
          "output_type": "stream",
          "name": "stdout",
          "text": [
            "Files already downloaded and verified\n",
            "Files already downloaded and verified\n"
          ]
        }
      ]
    },
    {
      "cell_type": "code",
      "source": [
        "train = torch.utils.data.DataLoader(data['train'],\n",
        "                                    batch_size=batch,\n",
        "                                    shuffle=True,\n",
        "                                    drop_last=True,\n",
        "                                    num_workers=0)\n",
        "\n",
        "test = torch.utils.data.DataLoader(data['test'],\n",
        "                                    batch_size=batch,\n",
        "                                    shuffle=True,\n",
        "                                    drop_last=True,\n",
        "                                    num_workers=0)"
      ],
      "metadata": {
        "id": "YpWaSrjljVYg"
      },
      "execution_count": null,
      "outputs": []
    },
    {
      "cell_type": "code",
      "source": [
        "def train_model(model):\n",
        "  # optimizer = torch.optim.SGD(model.parameters(), lr=lr_value, momentum=0.9)\n",
        "  optimizer = torch.optim.Adam(model.parameters(), lr=lr_value)\n",
        "  # scheduler = torch.optim.lr_scheduler.StepLR(optimizer, step_size=10, gamma=0.1)\n",
        "  criterion = nn.CrossEntropyLoss()\n",
        "\n",
        "  train_loss_list, test_loss_list = list(), list()\n",
        "  train_acc_list, test_acc_list = list(), list()\n",
        "  total_correct, total_samples = 0, 0\n",
        "  total_correct_test, total_samples_test = 0, 0\n",
        "\n",
        "  for epoch in range(epochs_count):\n",
        "    model.train()\n",
        "    train_loss, test_loss = 0, 0\n",
        "\n",
        "    for data in train:\n",
        "      inputs, labels = data[0].to(device), data[1].to(device)\n",
        "      optimizer.zero_grad()\n",
        "\n",
        "      outputs = model(inputs)\n",
        "      loss = criterion(outputs, labels)\n",
        "      train_loss += loss.item()\n",
        "      loss.backward()\n",
        "      optimizer.step()\n",
        "      # scheduler.step()\n",
        "\n",
        "      _, predicted = torch.max(outputs, 1)\n",
        "      total_correct += (predicted == labels).sum().item()\n",
        "      total_samples += labels.size(0)\n",
        "\n",
        "    with torch.no_grad():\n",
        "      model.eval()\n",
        "      for data_test in test:\n",
        "        input, label = data_test[0].to(device), data_test[1].to(device)\n",
        "        output = model(input)\n",
        "\n",
        "        loss = criterion(output, label)\n",
        "        test_loss += loss.item()\n",
        "\n",
        "        _, predicted = torch.max(output, 1)\n",
        "        total_correct_test += (predicted == label).sum().item()\n",
        "        total_samples_test += label.size(0)\n",
        "        # torch.cuda.empty_cache()\n",
        "        # del output\n",
        "\n",
        "\n",
        "    accuracy = 100 * total_correct / total_samples\n",
        "    accuracy_test = 100 * total_correct_test / total_samples_test\n",
        "\n",
        "    train_loss_list.append(train_loss/total_samples)\n",
        "    test_loss_list.append(test_loss/total_samples_test)\n",
        "    train_acc_list.append(accuracy)\n",
        "    test_acc_list.append(accuracy_test)\n",
        "\n",
        "    print(f'Epoch {epoch+1}:')\n",
        "    print(f'\\t Accuracy train = {accuracy:.2f}%, Loss train {train_loss/total_samples}')\n",
        "    print(f'\\t Accuracy test = {accuracy_test:.2f}%, Loss test {test_loss/total_samples}')\n",
        "\n",
        "  print('='*40,f'\\nResults: best loss train/test {min(train_loss_list):.4f}/{min(test_loss_list):.4f}\\n\\t  best accuracy train/test {max(train_acc_list):.2f}%/{max(test_acc_list):.2f}%')\n",
        "  return [train_loss_list, test_loss_list], [train_acc_list, test_acc_list]\n"
      ],
      "metadata": {
        "id": "nJSjjwOatjVm"
      },
      "execution_count": null,
      "outputs": []
    },
    {
      "cell_type": "markdown",
      "source": [
        "# CNN (самописная)"
      ],
      "metadata": {
        "id": "AZB3dvv6sThE"
      }
    },
    {
      "cell_type": "code",
      "source": [
        "class net(nn.Module):\n",
        "  def __init__(self):\n",
        "    super(net, self).__init__()\n",
        "    self.dp_three = nn.Dropout(0.2)\n",
        "    self.dp_four = nn.Dropout(0.2)\n",
        "\n",
        "    self.bn_one = torch.nn.BatchNorm2d(3)\n",
        "    self.conv_one = torch.nn.Conv2d(3, 30, 3)\n",
        "    self.bn_two = torch.nn.BatchNorm2d(30)\n",
        "    self.conv_two = torch.nn.Conv2d(30, 60, 3)\n",
        "    self.bn_three = torch.nn.BatchNorm2d(60)\n",
        "    self.conv_three = torch.nn.Conv2d(60, 120, 3)\n",
        "    self.bn_four = torch.nn.BatchNorm2d(120)\n",
        "    self.fc1 = torch.nn.Linear(480, 200)\n",
        "    self.fc2 = torch.nn.Linear(200, 150)\n",
        "    self.out = torch.nn.Linear(150, 100)\n",
        "\n",
        "\n",
        "  def forward(self, x):\n",
        "    x = self.bn_one(x)\n",
        "    x = self.conv_one(x)\n",
        "    x = F.leaky_relu(x)\n",
        "    x = F.max_pool2d(x, 2)\n",
        "\n",
        "    x = self.bn_two(x)\n",
        "    x = self.conv_two(x)\n",
        "    x = F.leaky_relu(x)\n",
        "    x = F.max_pool2d(x, 2)\n",
        "\n",
        "    x = self.bn_three(x)\n",
        "    x = self.conv_three(x)\n",
        "    x = F.leaky_relu(x)\n",
        "    x = F.max_pool2d(x, 2)\n",
        "\n",
        "    x = self.bn_four(x)\n",
        "    x = x.view(x.size(0), -1)\n",
        "    x = self.dp_three(x)\n",
        "    x = self.fc1(x)\n",
        "    x = F.leaky_relu(x)\n",
        "    x = self.dp_four(x)\n",
        "    x = self.fc2(x)\n",
        "    x = F.leaky_relu(x)\n",
        "    return self.out(x)\n",
        "\n",
        "net = net().to(device)\n",
        "summary(net.to(device), input_size=(3, 34, 34))"
      ],
      "metadata": {
        "colab": {
          "base_uri": "https://localhost:8080/"
        },
        "id": "PNnwz0cWsSlv",
        "outputId": "60c3960b-7095-4024-80ef-4e38ab4f28d5"
      },
      "execution_count": null,
      "outputs": [
        {
          "output_type": "stream",
          "name": "stdout",
          "text": [
            "----------------------------------------------------------------\n",
            "        Layer (type)               Output Shape         Param #\n",
            "================================================================\n",
            "       BatchNorm2d-1            [-1, 3, 34, 34]               6\n",
            "            Conv2d-2           [-1, 30, 32, 32]             840\n",
            "       BatchNorm2d-3           [-1, 30, 16, 16]              60\n",
            "            Conv2d-4           [-1, 60, 14, 14]          16,260\n",
            "       BatchNorm2d-5             [-1, 60, 7, 7]             120\n",
            "            Conv2d-6            [-1, 120, 5, 5]          64,920\n",
            "       BatchNorm2d-7            [-1, 120, 2, 2]             240\n",
            "           Dropout-8                  [-1, 480]               0\n",
            "            Linear-9                  [-1, 200]          96,200\n",
            "          Dropout-10                  [-1, 200]               0\n",
            "           Linear-11                  [-1, 150]          30,150\n",
            "           Linear-12                  [-1, 100]          15,100\n",
            "================================================================\n",
            "Total params: 223,896\n",
            "Trainable params: 223,896\n",
            "Non-trainable params: 0\n",
            "----------------------------------------------------------------\n",
            "Input size (MB): 0.01\n",
            "Forward/backward pass size (MB): 0.47\n",
            "Params size (MB): 0.85\n",
            "Estimated Total Size (MB): 1.33\n",
            "----------------------------------------------------------------\n"
          ]
        }
      ]
    },
    {
      "cell_type": "code",
      "source": [
        "losses = train_model(net)"
      ],
      "metadata": {
        "id": "zlHA9h-stNrO",
        "colab": {
          "base_uri": "https://localhost:8080/"
        },
        "outputId": "b7ef1e61-b053-4b17-9896-a19f738783f0"
      },
      "execution_count": null,
      "outputs": [
        {
          "output_type": "stream",
          "name": "stdout",
          "text": [
            "Epoch 1:\n",
            "\t Accuracy train = 14.51%, Loss train 0.05674616426286716\n",
            "\t Accuracy test = 19.03%, Loss test 0.010484708332374368\n",
            "Epoch 2:\n",
            "\t Accuracy train = 19.33%, Loss train 0.023862752400424507\n",
            "\t Accuracy test = 22.77%, Loss test 0.004627836937330444\n",
            "Epoch 3:\n",
            "\t Accuracy train = 22.62%, Loss train 0.014624115647259198\n",
            "\t Accuracy test = 24.93%, Loss test 0.0029289951175133287\n",
            "Epoch 4:\n",
            "\t Accuracy train = 24.95%, Loss train 0.010383947247999426\n",
            "\t Accuracy test = 26.78%, Loss test 0.002099890604128682\n",
            "Epoch 5:\n",
            "\t Accuracy train = 26.82%, Loss train 0.007964996536108505\n",
            "\t Accuracy test = 28.09%, Loss test 0.0016345000044751565\n",
            "Epoch 6:\n",
            "\t Accuracy train = 28.28%, Loss train 0.006436985476968815\n",
            "\t Accuracy test = 29.19%, Loss test 0.0013513394468076404\n",
            "Epoch 7:\n",
            "\t Accuracy train = 29.57%, Loss train 0.005365448376122615\n",
            "\t Accuracy test = 30.31%, Loss test 0.0010994450116432277\n",
            "Epoch 8:\n",
            "\t Accuracy train = 30.69%, Loss train 0.004568661113237431\n",
            "\t Accuracy test = 31.21%, Loss test 0.0009729655098203432\n",
            "Epoch 9:\n",
            "\t Accuracy train = 31.67%, Loss train 0.003996235834028392\n",
            "\t Accuracy test = 31.97%, Loss test 0.0008390745849502698\n",
            "Epoch 10:\n",
            "\t Accuracy train = 32.53%, Loss train 0.0035365793298305073\n",
            "\t Accuracy test = 32.46%, Loss test 0.0007770573784729583\n",
            "Epoch 11:\n",
            "\t Accuracy train = 33.30%, Loss train 0.003159320250998247\n",
            "\t Accuracy test = 32.75%, Loss test 0.0007284312222698017\n",
            "Epoch 12:\n",
            "\t Accuracy train = 34.01%, Loss train 0.0028545150024131914\n",
            "\t Accuracy test = 33.21%, Loss test 0.0006346404333839394\n",
            "Epoch 13:\n",
            "\t Accuracy train = 34.66%, Loss train 0.0026029702615388024\n",
            "\t Accuracy test = 33.73%, Loss test 0.0005648081085120799\n",
            "Epoch 14:\n",
            "\t Accuracy train = 35.28%, Loss train 0.002383332197164811\n",
            "\t Accuracy test = 34.19%, Loss test 0.000519461953647616\n",
            "Epoch 15:\n",
            "\t Accuracy train = 35.83%, Loss train 0.002210209404511478\n",
            "\t Accuracy test = 34.57%, Loss test 0.0005002956183939676\n",
            "======================================== \n",
            "Results: best loss train/test 0.0022/0.0025\n",
            "\t  best accuracy train/test 35.83%/34.57%\n"
          ]
        }
      ]
    },
    {
      "cell_type": "markdown",
      "source": [
        "# CNN (ResNet-50)"
      ],
      "metadata": {
        "id": "zi-Mky1YsC2p"
      }
    },
    {
      "cell_type": "code",
      "source": [
        "res_net = models.resnet50(pretrained=True)\n",
        "\n",
        "for params in res_net.parameters():\n",
        "  params.requires_grad = False\n",
        "\n",
        "input_count = res_net.fc.in_features\n",
        "\n",
        "# res_net.fc = nn.Linear(input_count, 100)\n",
        "\n",
        "res_net.fc = nn.Sequential(\n",
        "    torch.nn.Dropout(0.2),\n",
        "    torch.nn.Linear(input_count, 1024),\n",
        "    torch.nn.Dropout(0.2),\n",
        "    torch.nn.Linear(1024, 512),\n",
        "    torch.nn.Dropout(0.2),\n",
        "    torch.nn.Linear(512, 256),\n",
        "    torch.nn.Dropout(0.2),\n",
        "    torch.nn.Linear(256, 128),\n",
        "    torch.nn.Dropout(0.2),\n",
        "    torch.nn.Linear(128, 100)\n",
        ")\n",
        "summary(res_net.to(device), input_size=(3, 244, 244))"
      ],
      "metadata": {
        "colab": {
          "base_uri": "https://localhost:8080/"
        },
        "id": "MSpe3igesFu1",
        "outputId": "036e6e2b-f1c6-461c-8bf3-affb05172821"
      },
      "execution_count": null,
      "outputs": [
        {
          "output_type": "stream",
          "name": "stdout",
          "text": [
            "----------------------------------------------------------------\n",
            "        Layer (type)               Output Shape         Param #\n",
            "================================================================\n",
            "            Conv2d-1         [-1, 64, 122, 122]           9,408\n",
            "       BatchNorm2d-2         [-1, 64, 122, 122]             128\n",
            "              ReLU-3         [-1, 64, 122, 122]               0\n",
            "         MaxPool2d-4           [-1, 64, 61, 61]               0\n",
            "            Conv2d-5           [-1, 64, 61, 61]           4,096\n",
            "       BatchNorm2d-6           [-1, 64, 61, 61]             128\n",
            "              ReLU-7           [-1, 64, 61, 61]               0\n",
            "            Conv2d-8           [-1, 64, 61, 61]          36,864\n",
            "       BatchNorm2d-9           [-1, 64, 61, 61]             128\n",
            "             ReLU-10           [-1, 64, 61, 61]               0\n",
            "           Conv2d-11          [-1, 256, 61, 61]          16,384\n",
            "      BatchNorm2d-12          [-1, 256, 61, 61]             512\n",
            "           Conv2d-13          [-1, 256, 61, 61]          16,384\n",
            "      BatchNorm2d-14          [-1, 256, 61, 61]             512\n",
            "             ReLU-15          [-1, 256, 61, 61]               0\n",
            "       Bottleneck-16          [-1, 256, 61, 61]               0\n",
            "           Conv2d-17           [-1, 64, 61, 61]          16,384\n",
            "      BatchNorm2d-18           [-1, 64, 61, 61]             128\n",
            "             ReLU-19           [-1, 64, 61, 61]               0\n",
            "           Conv2d-20           [-1, 64, 61, 61]          36,864\n",
            "      BatchNorm2d-21           [-1, 64, 61, 61]             128\n",
            "             ReLU-22           [-1, 64, 61, 61]               0\n",
            "           Conv2d-23          [-1, 256, 61, 61]          16,384\n",
            "      BatchNorm2d-24          [-1, 256, 61, 61]             512\n",
            "             ReLU-25          [-1, 256, 61, 61]               0\n",
            "       Bottleneck-26          [-1, 256, 61, 61]               0\n",
            "           Conv2d-27           [-1, 64, 61, 61]          16,384\n",
            "      BatchNorm2d-28           [-1, 64, 61, 61]             128\n",
            "             ReLU-29           [-1, 64, 61, 61]               0\n",
            "           Conv2d-30           [-1, 64, 61, 61]          36,864\n",
            "      BatchNorm2d-31           [-1, 64, 61, 61]             128\n",
            "             ReLU-32           [-1, 64, 61, 61]               0\n",
            "           Conv2d-33          [-1, 256, 61, 61]          16,384\n",
            "      BatchNorm2d-34          [-1, 256, 61, 61]             512\n",
            "             ReLU-35          [-1, 256, 61, 61]               0\n",
            "       Bottleneck-36          [-1, 256, 61, 61]               0\n",
            "           Conv2d-37          [-1, 128, 61, 61]          32,768\n",
            "      BatchNorm2d-38          [-1, 128, 61, 61]             256\n",
            "             ReLU-39          [-1, 128, 61, 61]               0\n",
            "           Conv2d-40          [-1, 128, 31, 31]         147,456\n",
            "      BatchNorm2d-41          [-1, 128, 31, 31]             256\n",
            "             ReLU-42          [-1, 128, 31, 31]               0\n",
            "           Conv2d-43          [-1, 512, 31, 31]          65,536\n",
            "      BatchNorm2d-44          [-1, 512, 31, 31]           1,024\n",
            "           Conv2d-45          [-1, 512, 31, 31]         131,072\n",
            "      BatchNorm2d-46          [-1, 512, 31, 31]           1,024\n",
            "             ReLU-47          [-1, 512, 31, 31]               0\n",
            "       Bottleneck-48          [-1, 512, 31, 31]               0\n",
            "           Conv2d-49          [-1, 128, 31, 31]          65,536\n",
            "      BatchNorm2d-50          [-1, 128, 31, 31]             256\n",
            "             ReLU-51          [-1, 128, 31, 31]               0\n",
            "           Conv2d-52          [-1, 128, 31, 31]         147,456\n",
            "      BatchNorm2d-53          [-1, 128, 31, 31]             256\n",
            "             ReLU-54          [-1, 128, 31, 31]               0\n",
            "           Conv2d-55          [-1, 512, 31, 31]          65,536\n",
            "      BatchNorm2d-56          [-1, 512, 31, 31]           1,024\n",
            "             ReLU-57          [-1, 512, 31, 31]               0\n",
            "       Bottleneck-58          [-1, 512, 31, 31]               0\n",
            "           Conv2d-59          [-1, 128, 31, 31]          65,536\n",
            "      BatchNorm2d-60          [-1, 128, 31, 31]             256\n",
            "             ReLU-61          [-1, 128, 31, 31]               0\n",
            "           Conv2d-62          [-1, 128, 31, 31]         147,456\n",
            "      BatchNorm2d-63          [-1, 128, 31, 31]             256\n",
            "             ReLU-64          [-1, 128, 31, 31]               0\n",
            "           Conv2d-65          [-1, 512, 31, 31]          65,536\n",
            "      BatchNorm2d-66          [-1, 512, 31, 31]           1,024\n",
            "             ReLU-67          [-1, 512, 31, 31]               0\n",
            "       Bottleneck-68          [-1, 512, 31, 31]               0\n",
            "           Conv2d-69          [-1, 128, 31, 31]          65,536\n",
            "      BatchNorm2d-70          [-1, 128, 31, 31]             256\n",
            "             ReLU-71          [-1, 128, 31, 31]               0\n",
            "           Conv2d-72          [-1, 128, 31, 31]         147,456\n",
            "      BatchNorm2d-73          [-1, 128, 31, 31]             256\n",
            "             ReLU-74          [-1, 128, 31, 31]               0\n",
            "           Conv2d-75          [-1, 512, 31, 31]          65,536\n",
            "      BatchNorm2d-76          [-1, 512, 31, 31]           1,024\n",
            "             ReLU-77          [-1, 512, 31, 31]               0\n",
            "       Bottleneck-78          [-1, 512, 31, 31]               0\n",
            "           Conv2d-79          [-1, 256, 31, 31]         131,072\n",
            "      BatchNorm2d-80          [-1, 256, 31, 31]             512\n",
            "             ReLU-81          [-1, 256, 31, 31]               0\n",
            "           Conv2d-82          [-1, 256, 16, 16]         589,824\n",
            "      BatchNorm2d-83          [-1, 256, 16, 16]             512\n",
            "             ReLU-84          [-1, 256, 16, 16]               0\n",
            "           Conv2d-85         [-1, 1024, 16, 16]         262,144\n",
            "      BatchNorm2d-86         [-1, 1024, 16, 16]           2,048\n",
            "           Conv2d-87         [-1, 1024, 16, 16]         524,288\n",
            "      BatchNorm2d-88         [-1, 1024, 16, 16]           2,048\n",
            "             ReLU-89         [-1, 1024, 16, 16]               0\n",
            "       Bottleneck-90         [-1, 1024, 16, 16]               0\n",
            "           Conv2d-91          [-1, 256, 16, 16]         262,144\n",
            "      BatchNorm2d-92          [-1, 256, 16, 16]             512\n",
            "             ReLU-93          [-1, 256, 16, 16]               0\n",
            "           Conv2d-94          [-1, 256, 16, 16]         589,824\n",
            "      BatchNorm2d-95          [-1, 256, 16, 16]             512\n",
            "             ReLU-96          [-1, 256, 16, 16]               0\n",
            "           Conv2d-97         [-1, 1024, 16, 16]         262,144\n",
            "      BatchNorm2d-98         [-1, 1024, 16, 16]           2,048\n",
            "             ReLU-99         [-1, 1024, 16, 16]               0\n",
            "      Bottleneck-100         [-1, 1024, 16, 16]               0\n",
            "          Conv2d-101          [-1, 256, 16, 16]         262,144\n",
            "     BatchNorm2d-102          [-1, 256, 16, 16]             512\n",
            "            ReLU-103          [-1, 256, 16, 16]               0\n",
            "          Conv2d-104          [-1, 256, 16, 16]         589,824\n",
            "     BatchNorm2d-105          [-1, 256, 16, 16]             512\n",
            "            ReLU-106          [-1, 256, 16, 16]               0\n",
            "          Conv2d-107         [-1, 1024, 16, 16]         262,144\n",
            "     BatchNorm2d-108         [-1, 1024, 16, 16]           2,048\n",
            "            ReLU-109         [-1, 1024, 16, 16]               0\n",
            "      Bottleneck-110         [-1, 1024, 16, 16]               0\n",
            "          Conv2d-111          [-1, 256, 16, 16]         262,144\n",
            "     BatchNorm2d-112          [-1, 256, 16, 16]             512\n",
            "            ReLU-113          [-1, 256, 16, 16]               0\n",
            "          Conv2d-114          [-1, 256, 16, 16]         589,824\n",
            "     BatchNorm2d-115          [-1, 256, 16, 16]             512\n",
            "            ReLU-116          [-1, 256, 16, 16]               0\n",
            "          Conv2d-117         [-1, 1024, 16, 16]         262,144\n",
            "     BatchNorm2d-118         [-1, 1024, 16, 16]           2,048\n",
            "            ReLU-119         [-1, 1024, 16, 16]               0\n",
            "      Bottleneck-120         [-1, 1024, 16, 16]               0\n",
            "          Conv2d-121          [-1, 256, 16, 16]         262,144\n",
            "     BatchNorm2d-122          [-1, 256, 16, 16]             512\n",
            "            ReLU-123          [-1, 256, 16, 16]               0\n",
            "          Conv2d-124          [-1, 256, 16, 16]         589,824\n",
            "     BatchNorm2d-125          [-1, 256, 16, 16]             512\n",
            "            ReLU-126          [-1, 256, 16, 16]               0\n",
            "          Conv2d-127         [-1, 1024, 16, 16]         262,144\n",
            "     BatchNorm2d-128         [-1, 1024, 16, 16]           2,048\n",
            "            ReLU-129         [-1, 1024, 16, 16]               0\n",
            "      Bottleneck-130         [-1, 1024, 16, 16]               0\n",
            "          Conv2d-131          [-1, 256, 16, 16]         262,144\n",
            "     BatchNorm2d-132          [-1, 256, 16, 16]             512\n",
            "            ReLU-133          [-1, 256, 16, 16]               0\n",
            "          Conv2d-134          [-1, 256, 16, 16]         589,824\n",
            "     BatchNorm2d-135          [-1, 256, 16, 16]             512\n",
            "            ReLU-136          [-1, 256, 16, 16]               0\n",
            "          Conv2d-137         [-1, 1024, 16, 16]         262,144\n",
            "     BatchNorm2d-138         [-1, 1024, 16, 16]           2,048\n",
            "            ReLU-139         [-1, 1024, 16, 16]               0\n",
            "      Bottleneck-140         [-1, 1024, 16, 16]               0\n",
            "          Conv2d-141          [-1, 512, 16, 16]         524,288\n",
            "     BatchNorm2d-142          [-1, 512, 16, 16]           1,024\n",
            "            ReLU-143          [-1, 512, 16, 16]               0\n",
            "          Conv2d-144            [-1, 512, 8, 8]       2,359,296\n",
            "     BatchNorm2d-145            [-1, 512, 8, 8]           1,024\n",
            "            ReLU-146            [-1, 512, 8, 8]               0\n",
            "          Conv2d-147           [-1, 2048, 8, 8]       1,048,576\n",
            "     BatchNorm2d-148           [-1, 2048, 8, 8]           4,096\n",
            "          Conv2d-149           [-1, 2048, 8, 8]       2,097,152\n",
            "     BatchNorm2d-150           [-1, 2048, 8, 8]           4,096\n",
            "            ReLU-151           [-1, 2048, 8, 8]               0\n",
            "      Bottleneck-152           [-1, 2048, 8, 8]               0\n",
            "          Conv2d-153            [-1, 512, 8, 8]       1,048,576\n",
            "     BatchNorm2d-154            [-1, 512, 8, 8]           1,024\n",
            "            ReLU-155            [-1, 512, 8, 8]               0\n",
            "          Conv2d-156            [-1, 512, 8, 8]       2,359,296\n",
            "     BatchNorm2d-157            [-1, 512, 8, 8]           1,024\n",
            "            ReLU-158            [-1, 512, 8, 8]               0\n",
            "          Conv2d-159           [-1, 2048, 8, 8]       1,048,576\n",
            "     BatchNorm2d-160           [-1, 2048, 8, 8]           4,096\n",
            "            ReLU-161           [-1, 2048, 8, 8]               0\n",
            "      Bottleneck-162           [-1, 2048, 8, 8]               0\n",
            "          Conv2d-163            [-1, 512, 8, 8]       1,048,576\n",
            "     BatchNorm2d-164            [-1, 512, 8, 8]           1,024\n",
            "            ReLU-165            [-1, 512, 8, 8]               0\n",
            "          Conv2d-166            [-1, 512, 8, 8]       2,359,296\n",
            "     BatchNorm2d-167            [-1, 512, 8, 8]           1,024\n",
            "            ReLU-168            [-1, 512, 8, 8]               0\n",
            "          Conv2d-169           [-1, 2048, 8, 8]       1,048,576\n",
            "     BatchNorm2d-170           [-1, 2048, 8, 8]           4,096\n",
            "            ReLU-171           [-1, 2048, 8, 8]               0\n",
            "      Bottleneck-172           [-1, 2048, 8, 8]               0\n",
            "AdaptiveAvgPool2d-173           [-1, 2048, 1, 1]               0\n",
            "         Dropout-174                 [-1, 2048]               0\n",
            "          Linear-175                 [-1, 1024]       2,098,176\n",
            "         Dropout-176                 [-1, 1024]               0\n",
            "          Linear-177                  [-1, 512]         524,800\n",
            "         Dropout-178                  [-1, 512]               0\n",
            "          Linear-179                  [-1, 256]         131,328\n",
            "         Dropout-180                  [-1, 256]               0\n",
            "          Linear-181                  [-1, 128]          32,896\n",
            "         Dropout-182                  [-1, 128]               0\n",
            "          Linear-183                  [-1, 100]          12,900\n",
            "================================================================\n",
            "Total params: 26,308,132\n",
            "Trainable params: 2,800,100\n",
            "Non-trainable params: 23,508,032\n",
            "----------------------------------------------------------------\n",
            "Input size (MB): 0.68\n",
            "Forward/backward pass size (MB): 351.19\n",
            "Params size (MB): 100.36\n",
            "Estimated Total Size (MB): 452.23\n",
            "----------------------------------------------------------------\n"
          ]
        }
      ]
    },
    {
      "cell_type": "code",
      "source": [
        "losses_res = train_model(res_net)"
      ],
      "metadata": {
        "colab": {
          "base_uri": "https://localhost:8080/"
        },
        "id": "dISzmRPlt9Mr",
        "outputId": "6c130efd-8443-4357-8134-dee57a35dd9d"
      },
      "execution_count": null,
      "outputs": [
        {
          "output_type": "stream",
          "name": "stdout",
          "text": [
            "Epoch 1:\n",
            "\t Accuracy train = 24.85%, Loss train 0.04666813609408508\n",
            "\t Accuracy test = 38.98%, Loss test 0.006967388217488874\n",
            "Epoch 2:\n",
            "\t Accuracy train = 29.45%, Loss train 0.019613555436965826\n",
            "\t Accuracy test = 39.96%, Loss test 0.0033168664259332855\n",
            "Epoch 3:\n",
            "\t Accuracy train = 31.72%, Loss train 0.012609621397022045\n",
            "\t Accuracy test = 40.29%, Loss test 0.0022506066178644615\n",
            "Epoch 4:\n",
            "\t Accuracy train = 33.01%, Loss train 0.009303164360722796\n",
            "\t Accuracy test = 40.97%, Loss test 0.0016318750031120723\n",
            "Epoch 5:\n",
            "\t Accuracy train = 33.83%, Loss train 0.007432140400883636\n",
            "\t Accuracy test = 41.58%, Loss test 0.0012666802166480565\n",
            "Epoch 6:\n",
            "\t Accuracy train = 34.50%, Loss train 0.006130284270032369\n",
            "\t Accuracy test = 41.97%, Loss test 0.0010535404208540356\n",
            "Epoch 7:\n",
            "\t Accuracy train = 34.97%, Loss train 0.0052455289329218\n",
            "\t Accuracy test = 42.16%, Loss test 0.000912151429056031\n",
            "Epoch 8:\n",
            "\t Accuracy train = 35.35%, Loss train 0.004576761786505179\n",
            "\t Accuracy test = 42.53%, Loss test 0.0007708093208688932\n",
            "Epoch 9:\n",
            "\t Accuracy train = 35.70%, Loss train 0.004040052738533045\n",
            "\t Accuracy test = 42.84%, Loss test 0.000684740155911968\n",
            "Epoch 10:\n",
            "\t Accuracy train = 35.97%, Loss train 0.0036318652000321165\n",
            "\t Accuracy test = 42.97%, Loss test 0.0006403669741162112\n",
            "Epoch 11:\n",
            "\t Accuracy train = 36.20%, Loss train 0.0032914742134045757\n",
            "\t Accuracy test = 43.25%, Loss test 0.0005464388918122484\n",
            "Epoch 12:\n",
            "\t Accuracy train = 36.41%, Loss train 0.003021538744724705\n",
            "\t Accuracy test = 43.34%, Loss test 0.0005424829566397323\n",
            "Epoch 13:\n",
            "\t Accuracy train = 36.58%, Loss train 0.0027845002421690046\n",
            "\t Accuracy test = 43.56%, Loss test 0.00046251177340878014\n",
            "Epoch 14:\n",
            "\t Accuracy train = 36.74%, Loss train 0.0025747705193739693\n",
            "\t Accuracy test = 43.73%, Loss test 0.00043902685703924027\n",
            "Epoch 15:\n",
            "\t Accuracy train = 36.87%, Loss train 0.002416512890664421\n",
            "\t Accuracy test = 43.94%, Loss test 0.00039776644112587587\n",
            "======================================== \n",
            "Results: best loss train/test 0.0024/0.0020\n",
            "\t  best accuracy train/test 36.87%/43.94%\n"
          ]
        }
      ]
    },
    {
      "cell_type": "code",
      "source": [
        "def show_stats(net1, net2):\n",
        "    fig, (ax1, ax2) = plt.subplots(2)\n",
        "    fig.suptitle('Stats')\n",
        "\n",
        "    ax1.plot(net1[0][0], color='r')\n",
        "    ax1.plot(net1[0][1], linestyle=\":\", linewidth=2)\n",
        "    ax1.plot(net2[0][0], color='g')\n",
        "    ax1.plot(net2[0][1], color='orange', linestyle=\":\", linewidth=2)\n",
        "    ax1.legend([\"My loss train\", \"My loss test\", \"resnet loss train\", \"resnet loss test\"], loc =\"upper right\")\n",
        "    ax1.grid(True)\n",
        "\n",
        "    ax2.plot(net1[1][0], color='r')\n",
        "    ax2.plot(net1[1][1], linestyle=\":\", linewidth=2)\n",
        "    ax2.plot(net2[1][0], color='g')\n",
        "    ax2.plot(net2[1][1], color='orange', linestyle=\":\", linewidth=2)\n",
        "    ax2.legend([\"My accuracy train\", \"My accuracy test\", \"resnet accuracy train\", \"resnet accuracy test\"], loc =\"lower right\")\n",
        "    ax2.grid(True)\n",
        "\n",
        "    plt.show()"
      ],
      "metadata": {
        "id": "SMAlBF8bRuSx"
      },
      "execution_count": null,
      "outputs": []
    },
    {
      "cell_type": "code",
      "source": [
        "show_stats(losses, losses_res)"
      ],
      "metadata": {
        "colab": {
          "base_uri": "https://localhost:8080/",
          "height": 478
        },
        "id": "RD6tN3AIRyKU",
        "outputId": "f10b22f0-2a43-42cb-fd63-ada52154e427"
      },
      "execution_count": null,
      "outputs": [
        {
          "output_type": "display_data",
          "data": {
            "text/plain": [
              "<Figure size 640x480 with 2 Axes>"
            ],
            "image/png": "[encoded data removed]"
          },
          "metadata": {}
        }
      ]
    },
    {
      "cell_type": "code",
      "source": [
        "# !pip install numba\n",
        "\n",
        "# from numba import cuda\n",
        "# device = cuda.get_current_device()\n",
        "# device.reset()"
      ],
      "metadata": {
        "id": "9-vtGZpc0LyJ"
      },
      "execution_count": null,
      "outputs": []
    },
    {
      "cell_type": "code",
      "source": [],
      "metadata": {
        "id": "GlhBYG3J6lX9"
      },
      "execution_count": null,
      "outputs": []
    }
  ]
}